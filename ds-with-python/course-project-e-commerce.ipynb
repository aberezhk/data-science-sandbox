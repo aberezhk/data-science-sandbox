{
 "cells": [
  {
   "cell_type": "markdown",
   "metadata": {},
   "source": [
    "### course project"
   ]
  },
  {
   "cell_type": "code",
   "execution_count": 1,
   "metadata": {},
   "outputs": [],
   "source": [
    "import numpy as np\n",
    "import pandas as pd"
   ]
  },
  {
   "cell_type": "code",
   "execution_count": 7,
   "metadata": {},
   "outputs": [
    {
     "data": {
      "text/html": [
       "<div>\n",
       "<style scoped>\n",
       "    .dataframe tbody tr th:only-of-type {\n",
       "        vertical-align: middle;\n",
       "    }\n",
       "\n",
       "    .dataframe tbody tr th {\n",
       "        vertical-align: top;\n",
       "    }\n",
       "\n",
       "    .dataframe thead th {\n",
       "        text-align: right;\n",
       "    }\n",
       "</style>\n",
       "<table border=\"1\" class=\"dataframe\">\n",
       "  <thead>\n",
       "    <tr style=\"text-align: right;\">\n",
       "      <th></th>\n",
       "      <th>is_mobile</th>\n",
       "      <th>n_products_viewed</th>\n",
       "      <th>visit_duration</th>\n",
       "      <th>is_returning_visitor</th>\n",
       "      <th>time_of_day</th>\n",
       "      <th>user_action</th>\n",
       "    </tr>\n",
       "  </thead>\n",
       "  <tbody>\n",
       "    <tr>\n",
       "      <td>0</td>\n",
       "      <td>1</td>\n",
       "      <td>0</td>\n",
       "      <td>0.657510</td>\n",
       "      <td>0</td>\n",
       "      <td>3</td>\n",
       "      <td>0</td>\n",
       "    </tr>\n",
       "    <tr>\n",
       "      <td>1</td>\n",
       "      <td>1</td>\n",
       "      <td>1</td>\n",
       "      <td>0.568571</td>\n",
       "      <td>0</td>\n",
       "      <td>2</td>\n",
       "      <td>1</td>\n",
       "    </tr>\n",
       "    <tr>\n",
       "      <td>2</td>\n",
       "      <td>1</td>\n",
       "      <td>0</td>\n",
       "      <td>0.042246</td>\n",
       "      <td>1</td>\n",
       "      <td>1</td>\n",
       "      <td>0</td>\n",
       "    </tr>\n",
       "    <tr>\n",
       "      <td>3</td>\n",
       "      <td>1</td>\n",
       "      <td>1</td>\n",
       "      <td>1.659793</td>\n",
       "      <td>1</td>\n",
       "      <td>1</td>\n",
       "      <td>2</td>\n",
       "    </tr>\n",
       "    <tr>\n",
       "      <td>4</td>\n",
       "      <td>0</td>\n",
       "      <td>1</td>\n",
       "      <td>2.014745</td>\n",
       "      <td>1</td>\n",
       "      <td>1</td>\n",
       "      <td>2</td>\n",
       "    </tr>\n",
       "    <tr>\n",
       "      <td>...</td>\n",
       "      <td>...</td>\n",
       "      <td>...</td>\n",
       "      <td>...</td>\n",
       "      <td>...</td>\n",
       "      <td>...</td>\n",
       "      <td>...</td>\n",
       "    </tr>\n",
       "    <tr>\n",
       "      <td>495</td>\n",
       "      <td>1</td>\n",
       "      <td>3</td>\n",
       "      <td>0.731594</td>\n",
       "      <td>0</td>\n",
       "      <td>0</td>\n",
       "      <td>2</td>\n",
       "    </tr>\n",
       "    <tr>\n",
       "      <td>496</td>\n",
       "      <td>0</td>\n",
       "      <td>0</td>\n",
       "      <td>6.368775</td>\n",
       "      <td>1</td>\n",
       "      <td>3</td>\n",
       "      <td>0</td>\n",
       "    </tr>\n",
       "    <tr>\n",
       "      <td>497</td>\n",
       "      <td>0</td>\n",
       "      <td>0</td>\n",
       "      <td>0.172853</td>\n",
       "      <td>1</td>\n",
       "      <td>3</td>\n",
       "      <td>0</td>\n",
       "    </tr>\n",
       "    <tr>\n",
       "      <td>498</td>\n",
       "      <td>1</td>\n",
       "      <td>0</td>\n",
       "      <td>0.209964</td>\n",
       "      <td>0</td>\n",
       "      <td>3</td>\n",
       "      <td>0</td>\n",
       "    </tr>\n",
       "    <tr>\n",
       "      <td>499</td>\n",
       "      <td>0</td>\n",
       "      <td>0</td>\n",
       "      <td>2.616882</td>\n",
       "      <td>1</td>\n",
       "      <td>3</td>\n",
       "      <td>0</td>\n",
       "    </tr>\n",
       "  </tbody>\n",
       "</table>\n",
       "<p>500 rows × 6 columns</p>\n",
       "</div>"
      ],
      "text/plain": [
       "     is_mobile  n_products_viewed  visit_duration  is_returning_visitor  \\\n",
       "0            1                  0        0.657510                     0   \n",
       "1            1                  1        0.568571                     0   \n",
       "2            1                  0        0.042246                     1   \n",
       "3            1                  1        1.659793                     1   \n",
       "4            0                  1        2.014745                     1   \n",
       "..         ...                ...             ...                   ...   \n",
       "495          1                  3        0.731594                     0   \n",
       "496          0                  0        6.368775                     1   \n",
       "497          0                  0        0.172853                     1   \n",
       "498          1                  0        0.209964                     0   \n",
       "499          0                  0        2.616882                     1   \n",
       "\n",
       "     time_of_day  user_action  \n",
       "0              3            0  \n",
       "1              2            1  \n",
       "2              1            0  \n",
       "3              1            2  \n",
       "4              1            2  \n",
       "..           ...          ...  \n",
       "495            0            2  \n",
       "496            3            0  \n",
       "497            3            0  \n",
       "498            3            0  \n",
       "499            3            0  \n",
       "\n",
       "[500 rows x 6 columns]"
      ]
     },
     "execution_count": 7,
     "metadata": {},
     "output_type": "execute_result"
    }
   ],
   "source": [
    "pd.read_csv('ecommerce_data.csv')"
   ]
  },
  {
   "cell_type": "code",
   "execution_count": 19,
   "metadata": {},
   "outputs": [
    {
     "data": {
      "text/plain": [
       "array([[ 1.        , -0.81697841, -0.40827769,  0.        ,  0.        ,\n",
       "         0.        ,  0.        ,  1.        ],\n",
       "       [ 1.        ,  0.13967078, -0.4994283 ,  0.        ,  0.        ,\n",
       "         0.        ,  1.        ,  0.        ],\n",
       "       [ 1.        , -0.81697841, -1.03884323,  1.        ,  0.        ,\n",
       "         1.        ,  0.        ,  0.        ],\n",
       "       [ 1.        ,  0.13967078,  0.6189325 ,  1.        ,  0.        ,\n",
       "         1.        ,  0.        ,  0.        ],\n",
       "       [ 0.        ,  0.13967078,  0.9827116 ,  1.        ,  0.        ,\n",
       "         1.        ,  0.        ,  0.        ]])"
      ]
     },
     "execution_count": 19,
     "metadata": {},
     "output_type": "execute_result"
    }
   ],
   "source": [
    "# load data from csv\n",
    "def get_data():\n",
    "    df = pd.read_csv('ecommerce_data.csv')\n",
    "    data = df.values # convert to np matrix\n",
    "    \n",
    "    X = data[:,:-1] # get all but last columns\n",
    "    Y = data[:,-1:] # last column => data[-1:] will give last row instead\n",
    "    \n",
    "    # standardize numerical variables\n",
    "    X[:,1] = (X[:,1] - X[:,1].mean())/X[:,1].std() # n products viewed\n",
    "    X[:,2] = (X[:,2] - X[:,2].mean())/X[:,2].std() # visit duaration\n",
    "    \n",
    "    # do 1 hot encoding for time of a day\n",
    "    N, D = X.shape # get current shape of X (N-number of items, D-number of columns)\n",
    "    X2 = np.zeros((N, D+3)) # create new matrix that has 3 more columns (there are 4 times of the day, so we add 3 columns)\n",
    "    X2[:,0:(D-1)] = X[:,0:(D-1)] # copy values to new mutrix (all but last time of a day column)\n",
    "    \n",
    "    # option 1 with a loop\n",
    "    # for i in xrange(N):\n",
    "        # t = X[i,D-1] # get value at a cell with row i and column D-1 (time of a day)\n",
    "        # X2[i,D-1+t] = 1 # assign 1 to a cell with row i and column with index d-1+t\n",
    "    \n",
    "    # option 2\n",
    "    Z= np.zeros((N, 4)) # create new matrix with n rows and 4 columns\n",
    "    Z[np.arange(N), X[:,D-1].astype(int)] = 1\n",
    "    X2[:,-4:] = Z # assign values from Z to last 4 columns in X2\n",
    "    \n",
    "    return X2, Y"
   ]
  },
  {
   "cell_type": "code",
   "execution_count": 39,
   "metadata": {},
   "outputs": [],
   "source": [
    "# function to generate binary data (original has multiple classes, select only rows with 0 and 1 target value)\n",
    "def get_binary_data():\n",
    "    X, Y = get_data()\n",
    "    X2 = X[Y <= 1]\n",
    "    Y2 = Y[Y <= 1]\n",
    "    return X2, Y2"
   ]
  },
  {
   "cell_type": "code",
   "execution_count": 52,
   "metadata": {},
   "outputs": [],
   "source": [
    "def softmax(a):\n",
    "    expA = np.exp(a)\n",
    "    return expA/expA.sum(axis=1, keepdims=True)"
   ]
  },
  {
   "cell_type": "code",
   "execution_count": 48,
   "metadata": {},
   "outputs": [],
   "source": [
    "def forward(X, W1, b1, W2, b2):\n",
    "    Z = np.tanh(X.dot(W1)+b1)\n",
    "    Y = softmax(Z.dot(W2)+b2)\n",
    "    return Y"
   ]
  },
  {
   "cell_type": "code",
   "execution_count": 58,
   "metadata": {},
   "outputs": [],
   "source": [
    "def classification_rate_old(Y,P):\n",
    "    n_correct = 0\n",
    "    n_total = 0\n",
    "    for i in range(len(Y)):\n",
    "        n_total += 1\n",
    "        if Y[i]==P[i]:\n",
    "            n_correct +=1\n",
    "    return float(n_correct)/n_total"
   ]
  },
  {
   "cell_type": "code",
   "execution_count": 59,
   "metadata": {},
   "outputs": [],
   "source": [
    "def classification_rate(Y,P):\n",
    "    return np.mean(Y==P)"
   ]
  },
  {
   "cell_type": "code",
   "execution_count": 73,
   "metadata": {},
   "outputs": [
    {
     "data": {
      "text/plain": [
       "(0.18, 0.18, 90)"
      ]
     },
     "execution_count": 73,
     "metadata": {},
     "output_type": "execute_result"
    }
   ],
   "source": [
    "X, Y = get_data()\n",
    "\n",
    "# set random weights\n",
    "M=5 # number of hidden units\n",
    "D=X.shape[1] # number of features\n",
    "K=len(np.unique(Y)) # number of unique values in Y (number of target classes)\n",
    "# weights and biasis\n",
    "W1 = np.random.randn(D, M)\n",
    "b1 = np.zeros(M)\n",
    "W2 = np.random.randn(M, K)\n",
    "b2 = np.zeros(K)\n",
    "\n",
    "# do predictions with random weights\n",
    "p_Y_given_X = forward(X, W1, b1, W2, b2)\n",
    "predictions = np.argmax(p_Y_given_X, axis=1)\n",
    "c_rate_old = classification_rate_old(Y,predictions)\n",
    "c_rate = classification_rate(Y[:,-1],predictions) #Y[:,-1] -> change the shape from (500,1) to (500,)\n",
    "\n",
    "# just to test number of correct predictions\n",
    "correct = (Y[:,-1]==predictions)\n",
    "\n",
    "# output\n",
    "c_rate_old, c_rate, correct.sum()"
   ]
  },
  {
   "cell_type": "code",
   "execution_count": null,
   "metadata": {},
   "outputs": [],
   "source": []
  },
  {
   "cell_type": "code",
   "execution_count": null,
   "metadata": {},
   "outputs": [],
   "source": []
  }
 ],
 "metadata": {
  "kernelspec": {
   "display_name": "Python [conda env:py3-TF2.0]",
   "language": "python",
   "name": "conda-env-py3-TF2.0-py"
  },
  "language_info": {
   "codemirror_mode": {
    "name": "ipython",
    "version": 3
   },
   "file_extension": ".py",
   "mimetype": "text/x-python",
   "name": "python",
   "nbconvert_exporter": "python",
   "pygments_lexer": "ipython3",
   "version": "3.7.4"
  }
 },
 "nbformat": 4,
 "nbformat_minor": 2
}

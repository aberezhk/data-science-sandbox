{
 "cells": [
  {
   "cell_type": "code",
   "execution_count": 1,
   "metadata": {},
   "outputs": [],
   "source": [
    "import numpy as np\n",
    "import pandas as pd\n",
    "import matplotlib.pyplot as plt\n",
    "from sklearn.utils import shuffle"
   ]
  },
  {
   "cell_type": "code",
   "execution_count": 2,
   "metadata": {},
   "outputs": [],
   "source": [
    "# load data from csv\n",
    "def get_data():\n",
    "    df = pd.read_csv('ecommerce_data.csv')\n",
    "    data = df.values # convert to np matrix\n",
    "    X = data[:,:-1] # get all but last columns\n",
    "    Y = data[:,-1:] # last column => data[-1:] will give last row instead\n",
    "    X[:,1] = (X[:,1] - X[:,1].mean())/X[:,1].std() # n products viewed\n",
    "    X[:,2] = (X[:,2] - X[:,2].mean())/X[:,2].std() # visit duaration\n",
    "    N, D = X.shape # get current shape of X (N-number of items, D-number of columns)\n",
    "    X2 = np.zeros((N, D+3)) # create new matrix that has 3 more columns (there are 4 times of the day, so we add 3 columns)\n",
    "    X2[:,0:(D-1)] = X[:,0:(D-1)] # copy values to new mutrix (all but last time of a day column)\n",
    "    Z= np.zeros((N, 4)) # create new matrix with n rows and 4 columns\n",
    "    Z[np.arange(N), X[:,D-1].astype(int)] = 1\n",
    "    X2[:,-4:] = Z # assign values from Z to last 4 columns in X2\n",
    "    return X2, Y"
   ]
  },
  {
   "cell_type": "code",
   "execution_count": 3,
   "metadata": {},
   "outputs": [],
   "source": [
    "# one hot encoded target values\n",
    "def y2indicator(y, K):\n",
    "    N = len(y)\n",
    "    ind = np.zeros((N, K))\n",
    "    for i in range(N):\n",
    "        ind[i, y[i]] = 1\n",
    "    return ind"
   ]
  },
  {
   "cell_type": "code",
   "execution_count": 4,
   "metadata": {},
   "outputs": [],
   "source": [
    "def softmax(a):\n",
    "    expA = np.exp(a)\n",
    "    return expA / expA.sum(axis=1, keepdims=True)"
   ]
  },
  {
   "cell_type": "code",
   "execution_count": 5,
   "metadata": {},
   "outputs": [],
   "source": [
    "def forward(X, W, b):\n",
    "    return softmax(X.dot(W) + b)"
   ]
  },
  {
   "cell_type": "code",
   "execution_count": 6,
   "metadata": {},
   "outputs": [],
   "source": [
    "def predict(P_Y_given_X):\n",
    "    return np.argmax(P_Y_given_X, axis=1)"
   ]
  },
  {
   "cell_type": "code",
   "execution_count": 7,
   "metadata": {},
   "outputs": [],
   "source": [
    "# calculate the accuracy\n",
    "def classification_rate(Y, P):\n",
    "    return np.mean(Y == P)"
   ]
  },
  {
   "cell_type": "code",
   "execution_count": 8,
   "metadata": {},
   "outputs": [],
   "source": [
    "def cross_entropy(T, pY):\n",
    "    return -np.mean(T*np.log(pY))"
   ]
  },
  {
   "cell_type": "code",
   "execution_count": 9,
   "metadata": {},
   "outputs": [],
   "source": [
    "X, Y = get_data()\n",
    "X, Y = shuffle(X, Y)\n",
    "\n",
    "Y = Y.astype(np.int32) # ??\n",
    "D = X.shape[1] # number of samples\n",
    "K = len(np.unique(Y)) # number of classes\n",
    "\n",
    "Xtrain = X[:-100]\n",
    "Ytrain = Y[:-100]\n",
    "Xtest = X[-100:]\n",
    "Ytest = Y[-100:]\n",
    "\n",
    "D = Xtrain.shape[1]\n",
    "K = len(np.unique(Ytrain) | np.unique(Ytest))\n",
    "\n",
    "# convert to indicator\n",
    "Ytrain_ind = y2indicator(Ytrain, K)\n",
    "Ytest_ind = y2indicator(Ytest, K)\n",
    "\n",
    "# randomly initialize weights\n",
    "W = np.random.randn(D, K)\n",
    "b = np.zeros(K)"
   ]
  },
  {
   "cell_type": "code",
   "execution_count": 10,
   "metadata": {},
   "outputs": [
    {
     "name": "stdout",
     "output_type": "stream",
     "text": [
      "0 0.9614667096855684 1.1080965868728572 0.065\n",
      "100 0.12025571711590867 0.1068844425360253 0.85\n",
      "200 0.10561887677754925 0.09329701547690168 0.89\n",
      "300 0.1000438694202025 0.0898159747240895 0.8925\n",
      "400 0.09673603738510833 0.08833362483025546 0.8975\n",
      "500 0.09442004558319311 0.08753570751929987 0.895\n",
      "600 0.0926627979605152 0.087055573006821 0.8975\n",
      "700 0.09126571521286653 0.08675529548365735 0.8975\n",
      "800 0.09011996178504644 0.08657076437981899 0.8975\n",
      "900 0.0891588952416106 0.0864670643852628 0.9\n",
      "Final train classification_rate: 0.9\n",
      "Final test classification_rate: 0.91\n"
     ]
    },
    {
     "data": {
      "image/png": "[encoded data removed]",
      "text/plain": [
       "<Figure size 432x288 with 1 Axes>"
      ]
     },
     "metadata": {
      "needs_background": "light"
     },
     "output_type": "display_data"
    }
   ],
   "source": [
    "# train loop\n",
    "train_costs = []\n",
    "test_costs = []\n",
    "learning_rate = 0.001\n",
    "for i in range(1000):\n",
    "    pYtrain = forward(Xtrain, W, b)\n",
    "    pYtest = forward(Xtest, W, b)\n",
    "\n",
    "    ctrain = cross_entropy(Ytrain_ind, pYtrain)\n",
    "    ctest = cross_entropy(Ytest_ind, pYtest)\n",
    "    train_costs.append(ctrain)\n",
    "    test_costs.append(ctest)\n",
    "\n",
    "    # gradient descent\n",
    "    W -= learning_rate*Xtrain.T.dot(pYtrain - Ytrain_ind)\n",
    "    b -= learning_rate*(pYtrain - Ytrain_ind).sum(axis=0)    \n",
    "    if i % 100 == 0:\n",
    "        print(i, ctrain, ctest, classification_rate(Ytrain.astype(np.int32).flatten(), predict(pYtrain)))\n",
    "\n",
    "print(\"Final train classification_rate:\", classification_rate(Ytrain.astype(np.int32).flatten(), predict(pYtrain)))\n",
    "print(\"Final test classification_rate:\", classification_rate(Ytest.astype(np.int32).flatten(), predict(pYtest)))\n",
    "\n",
    "legend1, = plt.plot(train_costs, label='train cost')\n",
    "legend2, = plt.plot(test_costs, label='test cost')\n",
    "plt.legend([legend1, legend2])\n",
    "plt.show()"
   ]
  },
  {
   "cell_type": "code",
   "execution_count": null,
   "metadata": {},
   "outputs": [],
   "source": []
  }
 ],
 "metadata": {
  "kernelspec": {
   "display_name": "Python 3",
   "language": "python",
   "name": "python3"
  },
  "language_info": {
   "codemirror_mode": {
    "name": "ipython",
    "version": 3
   },
   "file_extension": ".py",
   "mimetype": "text/x-python",
   "name": "python",
   "nbconvert_exporter": "python",
   "pygments_lexer": "ipython3",
   "version": "3.7.3"
  }
 },
 "nbformat": 4,
 "nbformat_minor": 2
}

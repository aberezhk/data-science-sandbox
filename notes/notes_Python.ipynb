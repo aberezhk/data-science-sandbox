{
 "cells": [
  {
   "cell_type": "code",
   "execution_count": 5,
   "metadata": {},
   "outputs": [
    {
     "data": {
      "text/plain": [
       "3"
      ]
     },
     "execution_count": 5,
     "metadata": {},
     "output_type": "execute_result"
    }
   ],
   "source": [
    "x=3\n",
    "x"
   ]
  },
  {
   "cell_type": "code",
   "execution_count": 1,
   "metadata": {},
   "outputs": [
    {
     "data": {
      "text/plain": [
       "5.333333333333333"
      ]
     },
     "execution_count": 1,
     "metadata": {},
     "output_type": "execute_result"
    }
   ],
   "source": [
    "16/3"
   ]
  },
  {
   "cell_type": "code",
   "execution_count": 4,
   "metadata": {},
   "outputs": [
    {
     "data": {
      "text/plain": [
       "1"
      ]
     },
     "execution_count": 4,
     "metadata": {},
     "output_type": "execute_result"
    }
   ],
   "source": [
    "16%3"
   ]
  },
  {
   "cell_type": "code",
   "execution_count": 5,
   "metadata": {},
   "outputs": [
    {
     "name": "stdout",
     "output_type": "stream",
     "text": [
      "I'm fine\n"
     ]
    }
   ],
   "source": [
    "print ('I\\'m fine')"
   ]
  },
  {
   "cell_type": "code",
   "execution_count": 7,
   "metadata": {},
   "outputs": [
    {
     "name": "stdout",
     "output_type": "stream",
     "text": [
      "5\n"
     ]
    }
   ],
   "source": [
    "print (int(16/3))"
   ]
  },
  {
   "cell_type": "code",
   "execution_count": 8,
   "metadata": {},
   "outputs": [
    {
     "data": {
      "text/plain": [
       "10"
      ]
     },
     "execution_count": 8,
     "metadata": {},
     "output_type": "execute_result"
    }
   ],
   "source": [
    "5*2"
   ]
  },
  {
   "cell_type": "code",
   "execution_count": 9,
   "metadata": {},
   "outputs": [
    {
     "data": {
      "text/plain": [
       "25"
      ]
     },
     "execution_count": 9,
     "metadata": {},
     "output_type": "execute_result"
    }
   ],
   "source": [
    "5**2"
   ]
  },
  {
   "cell_type": "code",
   "execution_count": 10,
   "metadata": {},
   "outputs": [
    {
     "name": "stdout",
     "output_type": "stream",
     "text": [
      "I am fine\n"
     ]
    }
   ],
   "source": [
    "print ('I', 'am', 'fine')"
   ]
  },
  {
   "cell_type": "code",
   "execution_count": 11,
   "metadata": {},
   "outputs": [
    {
     "name": "stdout",
     "output_type": "stream",
     "text": [
      "5 2.3 test True\n"
     ]
    }
   ],
   "source": [
    "print (5, 2.3, 'test', True)"
   ]
  },
  {
   "cell_type": "code",
   "execution_count": 12,
   "metadata": {},
   "outputs": [
    {
     "name": "stdout",
     "output_type": "stream",
     "text": [
      "<class 'int'>\n"
     ]
    }
   ],
   "source": [
    "print (type(5))"
   ]
  },
  {
   "cell_type": "code",
   "execution_count": 13,
   "metadata": {},
   "outputs": [
    {
     "data": {
      "text/plain": [
       "int"
      ]
     },
     "execution_count": 13,
     "metadata": {},
     "output_type": "execute_result"
    }
   ],
   "source": [
    "type(5)"
   ]
  },
  {
   "cell_type": "code",
   "execution_count": 14,
   "metadata": {},
   "outputs": [
    {
     "data": {
      "text/plain": [
       "True"
      ]
     },
     "execution_count": 14,
     "metadata": {},
     "output_type": "execute_result"
    }
   ],
   "source": [
    "'test'=='test'"
   ]
  },
  {
   "cell_type": "code",
   "execution_count": 15,
   "metadata": {},
   "outputs": [
    {
     "name": "stdout",
     "output_type": "stream",
     "text": [
      "False\n"
     ]
    }
   ],
   "source": [
    "print (5=='5')"
   ]
  },
  {
   "cell_type": "code",
   "execution_count": 16,
   "metadata": {},
   "outputs": [
    {
     "name": "stdout",
     "output_type": "stream",
     "text": [
      "True\n"
     ]
    }
   ],
   "source": [
    "print (5==int('5'))"
   ]
  },
  {
   "cell_type": "code",
   "execution_count": 17,
   "metadata": {},
   "outputs": [],
   "source": [
    "#this is just a comment"
   ]
  },
  {
   "cell_type": "code",
   "execution_count": 18,
   "metadata": {},
   "outputs": [
    {
     "name": "stdout",
     "output_type": "stream",
     "text": [
      "7\n"
     ]
    },
    {
     "data": {
      "text/plain": [
       "3"
      ]
     },
     "execution_count": 18,
     "metadata": {},
     "output_type": "execute_result"
    }
   ],
   "source": [
    "print (7)\n",
    "x= 3\n",
    "x"
   ]
  },
  {
   "cell_type": "code",
   "execution_count": 20,
   "metadata": {},
   "outputs": [
    {
     "data": {
      "text/plain": [
       "6"
      ]
     },
     "execution_count": 20,
     "metadata": {},
     "output_type": "execute_result"
    }
   ],
   "source": [
    "# multi line\n",
    "3 + 2 \\\n",
    "+1"
   ]
  },
  {
   "cell_type": "code",
   "execution_count": 21,
   "metadata": {},
   "outputs": [
    {
     "data": {
      "text/plain": [
       "'d'"
      ]
     },
     "execution_count": 21,
     "metadata": {},
     "output_type": "execute_result"
    }
   ],
   "source": [
    "\"Friday\"[3]"
   ]
  },
  {
   "cell_type": "code",
   "execution_count": 26,
   "metadata": {},
   "outputs": [
    {
     "name": "stdout",
     "output_type": "stream",
     "text": [
      "5\n"
     ]
    }
   ],
   "source": [
    "def five(x):\n",
    "    x=5\n",
    "    return x\n",
    "\n",
    "print (five(2))"
   ]
  },
  {
   "cell_type": "code",
   "execution_count": 27,
   "metadata": {},
   "outputs": [
    {
     "data": {
      "text/plain": [
       "True"
      ]
     },
     "execution_count": 27,
     "metadata": {},
     "output_type": "execute_result"
    }
   ],
   "source": [
    "5 != 5 +2"
   ]
  },
  {
   "cell_type": "code",
   "execution_count": 31,
   "metadata": {},
   "outputs": [
    {
     "data": {
      "text/plain": [
       "False"
      ]
     },
     "execution_count": 31,
     "metadata": {},
     "output_type": "execute_result"
    }
   ],
   "source": [
    "5 >= 6"
   ]
  },
  {
   "cell_type": "code",
   "execution_count": 30,
   "metadata": {},
   "outputs": [
    {
     "data": {
      "text/plain": [
       "True"
      ]
     },
     "execution_count": 30,
     "metadata": {},
     "output_type": "execute_result"
    }
   ],
   "source": [
    "5 == 5"
   ]
  },
  {
   "cell_type": "code",
   "execution_count": 37,
   "metadata": {},
   "outputs": [
    {
     "name": "stdout",
     "output_type": "stream",
     "text": [
      "True\n",
      "True\n",
      "False\n",
      "True\n",
      "False\n"
     ]
    }
   ],
   "source": [
    "# NOT AND OR \n",
    "print (True and True)\n",
    "print (True or False)\n",
    "print (False or False)\n",
    "print (True and not False)\n",
    "print (3>5 or not 4 > 10 and False)"
   ]
  },
  {
   "cell_type": "code",
   "execution_count": 39,
   "metadata": {},
   "outputs": [
    {
     "name": "stdout",
     "output_type": "stream",
     "text": [
      "True\n",
      "True\n"
     ]
    }
   ],
   "source": [
    "# identety operators\n",
    "print (5 is not 6)\n",
    "print (5 != 6)"
   ]
  },
  {
   "cell_type": "code",
   "execution_count": 43,
   "metadata": {},
   "outputs": [
    {
     "name": "stdout",
     "output_type": "stream",
     "text": [
      "True\n"
     ]
    }
   ],
   "source": [
    "print (5 is not 6 or 5!=5 and 5==5 or 3>3)"
   ]
  },
  {
   "cell_type": "code",
   "execution_count": 49,
   "metadata": {},
   "outputs": [
    {
     "name": "stdout",
     "output_type": "stream",
     "text": [
      "True\n"
     ]
    }
   ],
   "source": [
    "if 5 == 10/2:\n",
    "    print ('True')"
   ]
  },
  {
   "cell_type": "code",
   "execution_count": 50,
   "metadata": {},
   "outputs": [],
   "source": [
    "if 5 != 10/2:\n",
    "    print ('False')"
   ]
  },
  {
   "cell_type": "code",
   "execution_count": 52,
   "metadata": {},
   "outputs": [
    {
     "name": "stdout",
     "output_type": "stream",
     "text": [
      "five\n",
      "more than 5\n",
      "less than 5\n"
     ]
    }
   ],
   "source": [
    "def printMe(x):\n",
    "    if x==5:\n",
    "        print ('five')\n",
    "    elif x>5:\n",
    "        print ('more than 5')\n",
    "    elif x<5:\n",
    "        print ('less than 5')\n",
    "    else:\n",
    "        print ('will never get here')\n",
    "        \n",
    "printMe(5)\n",
    "printMe(6)\n",
    "printMe(2)"
   ]
  },
  {
   "cell_type": "code",
   "execution_count": 54,
   "metadata": {},
   "outputs": [
    {
     "name": "stdout",
     "output_type": "stream",
     "text": [
      "1\n",
      "3\n",
      "5.0\n",
      "<class 'bool'>\n",
      "10\n",
      "5.3\n",
      "16\n",
      "4\n"
     ]
    }
   ],
   "source": [
    "# built-in functions\n",
    "print (min(2,1))\n",
    "print (abs(-3))\n",
    "print (float(5))\n",
    "print (type(True))\n",
    "print (sum([1,2,3,4]))\n",
    "print (round(5.333, 1))\n",
    "print (pow(2,4))\n",
    "print (len('test'))"
   ]
  },
  {
   "cell_type": "code",
   "execution_count": 72,
   "metadata": {},
   "outputs": [
    {
     "name": "stdout",
     "output_type": "stream",
     "text": [
      "['test', 'abc', 3, True]\n",
      "abc\n",
      "3\n",
      "new\n",
      "['new', 3, True]\n",
      "['new', 3, True, 'appended value']\n",
      "['new', 3, True, 'appended value', 'new1', 2]\n",
      "6\n",
      "[3, True, 'appended value']\n",
      "['new', 3]\n",
      "['new1', 2]\n",
      "1\n",
      "1\n",
      "[1, 2, 3, 5, 6, 9]\n",
      "[9, 6, 5, 3, 2, 1]\n"
     ]
    }
   ],
   "source": [
    "#Lists\n",
    "my_list = ['test', 'abc', 3, True]\n",
    "print (my_list)\n",
    "print (my_list[1])\n",
    "print (my_list[-2])\n",
    "my_list[0]='new'\n",
    "print (my_list[0])\n",
    "del my_list[1]\n",
    "print (my_list)\n",
    "my_list.append('appended value')\n",
    "print (my_list)\n",
    "my_list.extend(['new1', 2])\n",
    "print (my_list)\n",
    "print (len(my_list))\n",
    "#slice\n",
    "print (my_list[1:4])\n",
    "print (my_list[:2])\n",
    "print (my_list[4:])\n",
    "# index\n",
    "print (my_list.index(3))\n",
    "my_list.append(3)\n",
    "print (my_list.index(3))\n",
    "#print (my_list.index(30)) error\n",
    "#sorting\n",
    "new_list = [1,5,6,2,9,3]\n",
    "new_list.sort()\n",
    "print (new_list)\n",
    "new_list.sort(reverse=True)\n",
    "print (new_list)"
   ]
  },
  {
   "cell_type": "code",
   "execution_count": 75,
   "metadata": {},
   "outputs": [
    {
     "name": "stdout",
     "output_type": "stream",
     "text": [
      "<class 'tuple'>\n",
      "<class 'tuple'>\n",
      "<class 'list'>\n",
      "True\n",
      "False\n",
      "[3, 12, 4, (3, 12, 4)]\n"
     ]
    }
   ],
   "source": [
    "# Tuples - lists that can not be changed\n",
    "my_tuple = (3,12,4)\n",
    "# tuples are default tupes : y=3,12,4 => tuple\n",
    "a= 3,12,4\n",
    "b = [3,12,4]\n",
    "print (type(my_tuple))\n",
    "print (type(a))\n",
    "print (type(b))\n",
    "print (my_tuple==a)\n",
    "print (my_tuple==b)\n",
    "# place tuples in the list\n",
    "b.append(my_tuple)\n",
    "print (b)"
   ]
  },
  {
   "cell_type": "code",
   "execution_count": 78,
   "metadata": {},
   "outputs": [
    {
     "name": "stdout",
     "output_type": "stream",
     "text": [
      "1 7 8\n",
      "val1 val2\n"
     ]
    }
   ],
   "source": [
    "a,b,c = 1,7,8\n",
    "print (a,b,c)\n",
    "d,e = \"val1,val2\".split(',')\n",
    "print (d,e)"
   ]
  },
  {
   "cell_type": "code",
   "execution_count": 79,
   "metadata": {},
   "outputs": [
    {
     "name": "stdout",
     "output_type": "stream",
     "text": [
      "(110, 99)\n"
     ]
    }
   ],
   "source": [
    "# function can return a tuple\n",
    "def my_f(x):\n",
    "    return x+10, x-1\n",
    "\n",
    "print (my_f(100))"
   ]
  },
  {
   "cell_type": "code",
   "execution_count": 87,
   "metadata": {},
   "outputs": [
    {
     "name": "stdout",
     "output_type": "stream",
     "text": [
      "{'a': 1, 'b': 'b value'}\n",
      "b value\n",
      "{'a': 1, 'b': 'b value', 'c': 'new val'}\n",
      "None\n"
     ]
    }
   ],
   "source": [
    "# dictionaries - key value pairs\n",
    "my_dict = {'a': 1, 'b': 'b value'}\n",
    "print (my_dict)\n",
    "print (my_dict['b'])\n",
    "my_dict['c'] = 'new val'\n",
    "print (my_dict)\n",
    "print (my_dict.get('not present')) # my_dict['not present'] => error"
   ]
  },
  {
   "cell_type": "code",
   "execution_count": 99,
   "metadata": {},
   "outputs": [
    {
     "name": "stdout",
     "output_type": "stream",
     "text": [
      "1\n",
      "2\n",
      "3\n"
     ]
    }
   ],
   "source": [
    "# for loop\n",
    "my_list = [1,2,3]\n",
    "for i in my_list:\n",
    "    print (i)"
   ]
  },
  {
   "cell_type": "code",
   "execution_count": 103,
   "metadata": {},
   "outputs": [
    {
     "name": "stdout",
     "output_type": "stream",
     "text": [
      "1\n",
      "2\n",
      "3\n"
     ]
    }
   ],
   "source": [
    "# while loop\n",
    "x = 0\n",
    "while x<3:\n",
    "    print (my_list[x])\n",
    "    x += 1"
   ]
  },
  {
   "cell_type": "code",
   "execution_count": 124,
   "metadata": {},
   "outputs": [
    {
     "name": "stdout",
     "output_type": "stream",
     "text": [
      "0,1,2,3,4,5,6,7,8,9,test 1\n",
      "3,4,5,6,7,8,9,test 2\n",
      "3,5,7,9,test 3\n",
      "a\n",
      "b\n",
      "c\n",
      "d\n",
      "e\n",
      "f\n",
      "test 4\n",
      "c,e,"
     ]
    }
   ],
   "source": [
    "# range(start, stop, range) 1 stop , 2 start, 3 step\n",
    "for i in range(10):\n",
    "    print (i, end=',')\n",
    "print ('test 1')\n",
    "for i in range(3,10):\n",
    "    print (i, end=',')\n",
    "print ('test 2')\n",
    "for i in range(3,10,2):\n",
    "    print (i, end=',')\n",
    "print ('test 3')\n",
    "\n",
    "x= ['a', 'b', 'c', 'd', 'e', 'f']\n",
    "for i in range(len(x)):\n",
    "    print (x[i])\n",
    "print ('test 4')\n",
    "for i in range(2, len(x), 2 ):\n",
    "    print (x[i], end=',')"
   ]
  },
  {
   "cell_type": "code",
   "execution_count": 128,
   "metadata": {},
   "outputs": [
    {
     "name": "stdout",
     "output_type": "stream",
     "text": [
      "712\n"
     ]
    }
   ],
   "source": [
    "# iterate over a dictionary\n",
    "dict_1 = {'a': 2, 'b': 10, 'c': 12}\n",
    "dict_2 = {'a': 100, 'b': 50, 'c': 1}\n",
    "\n",
    "total = 0\n",
    "for i in dict_1:\n",
    "    total = total + dict_1[i]*dict_2[i]\n",
    "    \n",
    "print (total)"
   ]
  },
  {
   "cell_type": "code",
   "execution_count": 129,
   "metadata": {},
   "outputs": [
    {
     "data": {
      "text/plain": [
       "5.656854249492381"
      ]
     },
     "execution_count": 129,
     "metadata": {},
     "output_type": "execute_result"
    }
   ],
   "source": [
    "# import madules\n",
    "import math\n",
    "math.sqrt(32)"
   ]
  },
  {
   "cell_type": "code",
   "execution_count": 130,
   "metadata": {},
   "outputs": [
    {
     "data": {
      "text/plain": [
       "5.656854249492381"
      ]
     },
     "execution_count": 130,
     "metadata": {},
     "output_type": "execute_result"
    }
   ],
   "source": [
    "from math import sqrt\n",
    "sqrt(32)"
   ]
  },
  {
   "cell_type": "code",
   "execution_count": 131,
   "metadata": {},
   "outputs": [
    {
     "data": {
      "text/plain": [
       "5.656854249492381"
      ]
     },
     "execution_count": 131,
     "metadata": {},
     "output_type": "execute_result"
    }
   ],
   "source": [
    "from math import sqrt as s\n",
    "s(32)"
   ]
  },
  {
   "cell_type": "code",
   "execution_count": 132,
   "metadata": {},
   "outputs": [
    {
     "data": {
      "text/plain": [
       "5.656854249492381"
      ]
     },
     "execution_count": 132,
     "metadata": {},
     "output_type": "execute_result"
    }
   ],
   "source": [
    "import math as m\n",
    "m.sqrt(32)"
   ]
  },
  {
   "cell_type": "code",
   "execution_count": 133,
   "metadata": {},
   "outputs": [
    {
     "data": {
      "text/plain": [
       "5.656854249492381"
      ]
     },
     "execution_count": 133,
     "metadata": {},
     "output_type": "execute_result"
    }
   ],
   "source": [
    "from math import *\n",
    "sqrt(32)"
   ]
  },
  {
   "cell_type": "code",
   "execution_count": 134,
   "metadata": {},
   "outputs": [
    {
     "name": "stdout",
     "output_type": "stream",
     "text": [
      "Help on built-in function sqrt in module math:\n",
      "\n",
      "sqrt(x, /)\n",
      "    Return the square root of x.\n",
      "\n"
     ]
    }
   ],
   "source": [
    "help(math.sqrt)"
   ]
  },
  {
   "cell_type": "code",
   "execution_count": null,
   "metadata": {},
   "outputs": [],
   "source": []
  }
 ],
 "metadata": {
  "kernelspec": {
   "display_name": "Python 3",
   "language": "python",
   "name": "python3"
  },
  "language_info": {
   "codemirror_mode": {
    "name": "ipython",
    "version": 3
   },
   "file_extension": ".py",
   "mimetype": "text/x-python",
   "name": "python",
   "nbconvert_exporter": "python",
   "pygments_lexer": "ipython3",
   "version": "3.7.4"
  }
 },
 "nbformat": 4,
 "nbformat_minor": 2
}

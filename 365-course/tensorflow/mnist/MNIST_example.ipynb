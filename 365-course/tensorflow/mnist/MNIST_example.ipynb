{
 "cells": [
  {
   "cell_type": "markdown",
   "metadata": {},
   "source": [
    "## Classification on MNIST data set"
   ]
  },
  {
   "cell_type": "code",
   "execution_count": 1,
   "metadata": {},
   "outputs": [],
   "source": [
    "# import packages\n",
    "import numpy as np\n",
    "import tensorflow as tf\n",
    "import tensorflow_datasets as tfds"
   ]
  },
  {
   "cell_type": "code",
   "execution_count": 2,
   "metadata": {},
   "outputs": [],
   "source": [
    "# load data from tensorflow datasets\n",
    "mnist_dataset, mnist_info = tfds.load(name='mnist', with_info=True, as_supervised=True)\n",
    "mnist_train, mnist_test = mnist_dataset['train'], mnist_dataset['test'] # define train and test data sets"
   ]
  },
  {
   "cell_type": "code",
   "execution_count": 3,
   "metadata": {},
   "outputs": [],
   "source": [
    "# mnist has only train and test sets => devide train in train and validation\n",
    "#define how much data will be used for training, validation and test\n",
    "num_validation_samples = 0.1 * mnist_info.splits['train'].num_examples # define 10% of training data as validation\n",
    "num_validation_samples = tf.cast(num_validation_samples, tf.int64) # tf.cast(number, format) make sure number is an integer\n",
    "num_train_samples = mnist_info.splits['train'].num_examples - num_validation_samples # num of training samples left\n",
    "num_test_samples = mnist_info.splits['test'].num_examples\n",
    "num_test_samples = tf.cast(num_test_samples, tf.int64) # number of test samples"
   ]
  },
  {
   "cell_type": "code",
   "execution_count": 4,
   "metadata": {},
   "outputs": [],
   "source": [
    "# scale the data, so instaed of 0-255(255=> max grey scale pixel color strength) values it has 0-1\n",
    "# we pass mnist data that is a tuple of inputs(image) and outputs(label)\n",
    "# https://www.tensorflow.org/api_docs/python/tf/data/Dataset#map\n",
    "def scale_f(image, label):\n",
    "    image = tf.cast(image, tf.float32) \n",
    "    image /= 255.\n",
    "    return image, label\n",
    "\n",
    "scaled_train_and_validation_data = mnist_train.map(scale_f) # pass custom scale function to tf.dataset.map function\n",
    "scaled_test_data = mnist_test.map(scale_f)"
   ]
  },
  {
   "cell_type": "code",
   "execution_count": 5,
   "metadata": {},
   "outputs": [],
   "source": [
    "# shuffle the data to be sure order is random\n",
    "BUFFER_SIZE = 10000\n",
    "shuffled_train_and_validation_data = scaled_train_and_validation_data.shuffle(BUFFER_SIZE)\n",
    "# devide shaffled train dataset into train and validation data\n",
    "validation_data = shuffled_train_and_validation_data.take(num_validation_samples)\n",
    "train_data = shuffled_train_and_validation_data.skip(num_validation_samples)"
   ]
  },
  {
   "cell_type": "code",
   "execution_count": 6,
   "metadata": {},
   "outputs": [],
   "source": [
    "# to use badtch gradient descent we need to define batches of data\n",
    "BATCH_SIZE = 100\n",
    "train_data = train_data.batch(BATCH_SIZE) # because train data will be backpropagated\n",
    "validation_data = validation_data.repeat().batch(num_validation_samples) # batch size = whole data set, only forward propagation will be done\n",
    "test_data = scaled_test_data.batch(num_test_samples) # whole data set batch, no backpropagation will be done on test data\n",
    "\n",
    "# takes next batch (it is the only batch)\n",
    "# because as_supervized=True, we've got a 2-tuple structure\n",
    "# todo: figure out this magic that does not work\n",
    "# validation_inputs, validation_targets = next(iter(validation_data))"
   ]
  },
  {
   "cell_type": "code",
   "execution_count": 7,
   "metadata": {},
   "outputs": [],
   "source": [
    "# outline the model\n",
    "\n",
    "input_size = 784 # 28x28 pixels (each image is 28x28 pixels => 784)\n",
    "output_size = 10 # output is numbers between 0 and 9\n",
    "\n",
    "# Use same hidden layer size for both hidden layers. Not a necessity.\n",
    "hidden_layers_1 = 100\n",
    "hidden_layers_2 = 65 \n",
    "hidden_layers_3 = 40\n",
    "# define how the model will look like\n",
    "model = tf.keras.Sequential([\n",
    "    \n",
    "    # each observation is 28x28x1 pixels, therefore it is a tensor of rank 3\n",
    "    # flatten (28x28x1,) tensor to (784,) vector => for feed forward network\n",
    "    tf.keras.layers.Flatten(input_shape=(28, 28, 1)), # input layer\n",
    "    \n",
    "    # tf.keras.layers.Dense => output = activation(dot(input, weight) + bias)\n",
    "    # arguments : hidden_layer_size and the activation function\n",
    "    tf.keras.layers.Dense(hidden_layers_1, activation='relu'), # 1st hidden layer\n",
    "    tf.keras.layers.Dense(hidden_layers_2, activation='selu'), # 2nd hidden layer\n",
    "    tf.keras.layers.Dense(hidden_layers_3, activation='relu'), # 2nd hidden layer\n",
    "    \n",
    "    # softmax activation function to convert values to probabilities\n",
    "    tf.keras.layers.Dense(output_size, activation='softmax') # output layer\n",
    "])"
   ]
  },
  {
   "cell_type": "code",
   "execution_count": 8,
   "metadata": {},
   "outputs": [],
   "source": [
    "# compile the model\n",
    "# define the optimizer and the loss function\n",
    "# and the metrics we are interested in obtaining at each iteration\n",
    "model.compile(optimizer='adam', loss='sparse_categorical_crossentropy', metrics=['accuracy'])"
   ]
  },
  {
   "cell_type": "code",
   "execution_count": 9,
   "metadata": {},
   "outputs": [
    {
     "name": "stdout",
     "output_type": "stream",
     "text": [
      "Epoch 1/5\n",
      "540/540 - 7s - loss: 0.3336 - accuracy: 0.9016 - val_loss: 0.0000e+00 - val_accuracy: 0.0000e+00\n",
      "Epoch 2/5\n",
      "540/540 - 8s - loss: 0.1307 - accuracy: 0.9605 - val_loss: 0.1170 - val_accuracy: 0.9657\n",
      "Epoch 3/5\n",
      "540/540 - 9s - loss: 0.0940 - accuracy: 0.9709 - val_loss: 0.0862 - val_accuracy: 0.9752\n",
      "Epoch 4/5\n",
      "540/540 - 8s - loss: 0.0710 - accuracy: 0.9777 - val_loss: 0.0834 - val_accuracy: 0.9750\n",
      "Epoch 5/5\n",
      "540/540 - 8s - loss: 0.0567 - accuracy: 0.9821 - val_loss: 0.0620 - val_accuracy: 0.9820\n"
     ]
    },
    {
     "data": {
      "text/plain": [
       "<tensorflow.python.keras.callbacks.History at 0x292f3f81608>"
      ]
     },
     "execution_count": 9,
     "metadata": {},
     "output_type": "execute_result"
    }
   ],
   "source": [
    "# train the model\n",
    "NUM_EPOCHS = 5 # max number of epochs\n",
    "\n",
    "# we fit the model,\n",
    "# provide training data, the total number of epochs, the validation data\n",
    "model.fit(train_data, epochs=NUM_EPOCHS, validation_data=validation_data, validation_steps=1, verbose =2)"
   ]
  },
  {
   "cell_type": "code",
   "execution_count": 11,
   "metadata": {},
   "outputs": [
    {
     "name": "stdout",
     "output_type": "stream",
     "text": [
      "      1/Unknown - 1s 1s/step - loss: 0.0879 - accuracy: 0.97 - 1s 1s/step - loss: 0.0879 - accuracy: 0.9745Test loss: 0.09. Test accuracy: 97.45%\n"
     ]
    }
   ],
   "source": [
    "test_loss, test_accuracy = model.evaluate(test_data)\n",
    "print('Test loss: {0:.2f}. Test accuracy: {1:.2f}%'.format(test_loss, test_accuracy*100.))"
   ]
  },
  {
   "cell_type": "code",
   "execution_count": 12,
   "metadata": {},
   "outputs": [
    {
     "name": "stdout",
     "output_type": "stream",
     "text": [
      "0.08789727836847305\n"
     ]
    }
   ],
   "source": [
    "print (test_loss)"
   ]
  },
  {
   "cell_type": "code",
   "execution_count": 13,
   "metadata": {},
   "outputs": [
    {
     "name": "stdout",
     "output_type": "stream",
     "text": [
      "0.9745\n"
     ]
    }
   ],
   "source": [
    "print (test_accuracy)"
   ]
  },
  {
   "cell_type": "code",
   "execution_count": null,
   "metadata": {},
   "outputs": [],
   "source": []
  }
 ],
 "metadata": {
  "kernelspec": {
   "display_name": "Python [conda env:py3-TF2.0] *",
   "language": "python",
   "name": "conda-env-py3-TF2.0-py"
  },
  "language_info": {
   "codemirror_mode": {
    "name": "ipython",
    "version": 3
   },
   "file_extension": ".py",
   "mimetype": "text/x-python",
   "name": "python",
   "nbconvert_exporter": "python",
   "pygments_lexer": "ipython3",
   "version": "3.7.4"
  }
 },
 "nbformat": 4,
 "nbformat_minor": 2
}
